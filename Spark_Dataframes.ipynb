{
  "nbformat": 4,
  "nbformat_minor": 0,
  "metadata": {
    "colab": {
      "name": "Spark_Dataframes.ipynb",
      "provenance": [],
      "collapsed_sections": [],
      "mount_file_id": "1gy_bQY365_xTt4GPKU-j2-p0_nz9QPVE",
      "authorship_tag": "ABX9TyMsO21owA11YBYfGK7/SFHa",
      "include_colab_link": true
    },
    "kernelspec": {
      "name": "python3",
      "display_name": "Python 3"
    },
    "language_info": {
      "name": "python"
    }
  },
  "cells": [
    {
      "cell_type": "markdown",
      "metadata": {
        "id": "view-in-github",
        "colab_type": "text"
      },
      "source": [
        "<a href=\"https://colab.research.google.com/github/mahfuz978/Apache-Spark/blob/main/Spark_Dataframes.ipynb\" target=\"_parent\"><img src=\"https://colab.research.google.com/assets/colab-badge.svg\" alt=\"Open In Colab\"/></a>"
      ]
    },
    {
      "cell_type": "code",
      "metadata": {
        "colab": {
          "base_uri": "https://localhost:8080/"
        },
        "id": "5t_JhwGcHoP1",
        "outputId": "4b9dbd7c-f063-482e-98ed-6c2e38956680"
      },
      "source": [
        "import sys\n",
        "!{sys.executable} -m pip install pyspark"
      ],
      "execution_count": 1,
      "outputs": [
        {
          "output_type": "stream",
          "text": [
            "Collecting pyspark\n",
            "  Downloading pyspark-3.1.2.tar.gz (212.4 MB)\n",
            "\u001b[K     |████████████████████████████████| 212.4 MB 53 kB/s \n",
            "\u001b[?25hCollecting py4j==0.10.9\n",
            "  Downloading py4j-0.10.9-py2.py3-none-any.whl (198 kB)\n",
            "\u001b[K     |████████████████████████████████| 198 kB 51.9 MB/s \n",
            "\u001b[?25hBuilding wheels for collected packages: pyspark\n",
            "  Building wheel for pyspark (setup.py) ... \u001b[?25l\u001b[?25hdone\n",
            "  Created wheel for pyspark: filename=pyspark-3.1.2-py2.py3-none-any.whl size=212880768 sha256=1b49281def528f2308b3b7bffc077ad508de46f1c56e86ea8e031df47b5dffd3\n",
            "  Stored in directory: /root/.cache/pip/wheels/a5/0a/c1/9561f6fecb759579a7d863dcd846daaa95f598744e71b02c77\n",
            "Successfully built pyspark\n",
            "Installing collected packages: py4j, pyspark\n",
            "Successfully installed py4j-0.10.9 pyspark-3.1.2\n"
          ],
          "name": "stdout"
        }
      ]
    },
    {
      "cell_type": "code",
      "metadata": {
        "id": "go8PTmUPNVXV"
      },
      "source": [
        "import pandas as pd\n",
        "from pyspark.sql import SparkSession\n",
        "\n",
        "spark = SparkSession.builder\\\n",
        "        .master(\"local\")\\\n",
        "        .appName(\"Colab\")\\\n",
        "        .config('spark.ui.port', '4050')\\\n",
        "        .getOrCreate()"
      ],
      "execution_count": 2,
      "outputs": []
    },
    {
      "cell_type": "code",
      "metadata": {
        "colab": {
          "base_uri": "https://localhost:8080/",
          "height": 220
        },
        "id": "YWMtgPo6Nysn",
        "outputId": "be4feacd-5c60-44af-de15-1ad53a9d395b"
      },
      "source": [
        "# Initializing the spark session\n",
        "spark"
      ],
      "execution_count": 3,
      "outputs": [
        {
          "output_type": "execute_result",
          "data": {
            "text/html": [
              "\n",
              "            <div>\n",
              "                <p><b>SparkSession - in-memory</b></p>\n",
              "                \n",
              "        <div>\n",
              "            <p><b>SparkContext</b></p>\n",
              "\n",
              "            <p><a href=\"http://567a4ed48334:4050\">Spark UI</a></p>\n",
              "\n",
              "            <dl>\n",
              "              <dt>Version</dt>\n",
              "                <dd><code>v3.1.2</code></dd>\n",
              "              <dt>Master</dt>\n",
              "                <dd><code>local</code></dd>\n",
              "              <dt>AppName</dt>\n",
              "                <dd><code>Colab</code></dd>\n",
              "            </dl>\n",
              "        </div>\n",
              "        \n",
              "            </div>\n",
              "        "
            ],
            "text/plain": [
              "<pyspark.sql.session.SparkSession at 0x7f47fc075d10>"
            ]
          },
          "metadata": {},
          "execution_count": 3
        }
      ]
    },
    {
      "cell_type": "code",
      "metadata": {
        "id": "PWjC87XeN7_V"
      },
      "source": [
        "pd_answers_df = pd.read_csv('/content/drive/MyDrive/Tech IS/Apache Spark/Answers.csv/Answers.csv', encoding='latin1')\n",
        "pd_questions_df = pd.read_csv('/content/drive/MyDrive/Tech IS/Apache Spark/Questions.csv/Questions.csv', encoding='latin1')\n",
        "pd_tags_df = pd.read_csv('/content/drive/MyDrive/Tech IS/Apache Spark/Tags.csv/Tags.csv', encoding='latin1')"
      ],
      "execution_count": 4,
      "outputs": []
    },
    {
      "cell_type": "code",
      "metadata": {
        "colab": {
          "base_uri": "https://localhost:8080/",
          "height": 204
        },
        "id": "pe8OKvL7OBK6",
        "outputId": "b0c54dd7-88ab-4cfb-d94d-defbd7039bc0"
      },
      "source": [
        "pd_answers_df.head()"
      ],
      "execution_count": 5,
      "outputs": [
        {
          "output_type": "execute_result",
          "data": {
            "text/html": [
              "<div>\n",
              "<style scoped>\n",
              "    .dataframe tbody tr th:only-of-type {\n",
              "        vertical-align: middle;\n",
              "    }\n",
              "\n",
              "    .dataframe tbody tr th {\n",
              "        vertical-align: top;\n",
              "    }\n",
              "\n",
              "    .dataframe thead th {\n",
              "        text-align: right;\n",
              "    }\n",
              "</style>\n",
              "<table border=\"1\" class=\"dataframe\">\n",
              "  <thead>\n",
              "    <tr style=\"text-align: right;\">\n",
              "      <th></th>\n",
              "      <th>Id</th>\n",
              "      <th>OwnerUserId</th>\n",
              "      <th>CreationDate</th>\n",
              "      <th>ParentId</th>\n",
              "      <th>Score</th>\n",
              "      <th>Body</th>\n",
              "    </tr>\n",
              "  </thead>\n",
              "  <tbody>\n",
              "    <tr>\n",
              "      <th>0</th>\n",
              "      <td>92</td>\n",
              "      <td>61.0</td>\n",
              "      <td>2008-08-01T14:45:37Z</td>\n",
              "      <td>90</td>\n",
              "      <td>13</td>\n",
              "      <td>&lt;p&gt;&lt;a href=\"http://svnbook.red-bean.com/\"&gt;Vers...</td>\n",
              "    </tr>\n",
              "    <tr>\n",
              "      <th>1</th>\n",
              "      <td>124</td>\n",
              "      <td>26.0</td>\n",
              "      <td>2008-08-01T16:09:47Z</td>\n",
              "      <td>80</td>\n",
              "      <td>12</td>\n",
              "      <td>&lt;p&gt;I wound up using this. It is a kind of a ha...</td>\n",
              "    </tr>\n",
              "    <tr>\n",
              "      <th>2</th>\n",
              "      <td>199</td>\n",
              "      <td>50.0</td>\n",
              "      <td>2008-08-01T19:36:46Z</td>\n",
              "      <td>180</td>\n",
              "      <td>1</td>\n",
              "      <td>&lt;p&gt;I've read somewhere the human eye can't dis...</td>\n",
              "    </tr>\n",
              "    <tr>\n",
              "      <th>3</th>\n",
              "      <td>269</td>\n",
              "      <td>91.0</td>\n",
              "      <td>2008-08-01T23:49:57Z</td>\n",
              "      <td>260</td>\n",
              "      <td>4</td>\n",
              "      <td>&lt;p&gt;Yes, I thought about that, but I soon figur...</td>\n",
              "    </tr>\n",
              "    <tr>\n",
              "      <th>4</th>\n",
              "      <td>307</td>\n",
              "      <td>49.0</td>\n",
              "      <td>2008-08-02T01:49:46Z</td>\n",
              "      <td>260</td>\n",
              "      <td>28</td>\n",
              "      <td>&lt;p&gt;&lt;a href=\"http://www.codeproject.com/Article...</td>\n",
              "    </tr>\n",
              "  </tbody>\n",
              "</table>\n",
              "</div>"
            ],
            "text/plain": [
              "    Id  OwnerUserId  ... Score                                               Body\n",
              "0   92         61.0  ...    13  <p><a href=\"http://svnbook.red-bean.com/\">Vers...\n",
              "1  124         26.0  ...    12  <p>I wound up using this. It is a kind of a ha...\n",
              "2  199         50.0  ...     1  <p>I've read somewhere the human eye can't dis...\n",
              "3  269         91.0  ...     4  <p>Yes, I thought about that, but I soon figur...\n",
              "4  307         49.0  ...    28  <p><a href=\"http://www.codeproject.com/Article...\n",
              "\n",
              "[5 rows x 6 columns]"
            ]
          },
          "metadata": {},
          "execution_count": 5
        }
      ]
    },
    {
      "cell_type": "code",
      "metadata": {
        "colab": {
          "base_uri": "https://localhost:8080/",
          "height": 204
        },
        "id": "WI_-NY9CPGfF",
        "outputId": "6908b471-469a-447b-a46f-29e532882fea"
      },
      "source": [
        "pd_questions_df.head()"
      ],
      "execution_count": 6,
      "outputs": [
        {
          "output_type": "execute_result",
          "data": {
            "text/html": [
              "<div>\n",
              "<style scoped>\n",
              "    .dataframe tbody tr th:only-of-type {\n",
              "        vertical-align: middle;\n",
              "    }\n",
              "\n",
              "    .dataframe tbody tr th {\n",
              "        vertical-align: top;\n",
              "    }\n",
              "\n",
              "    .dataframe thead th {\n",
              "        text-align: right;\n",
              "    }\n",
              "</style>\n",
              "<table border=\"1\" class=\"dataframe\">\n",
              "  <thead>\n",
              "    <tr style=\"text-align: right;\">\n",
              "      <th></th>\n",
              "      <th>Id</th>\n",
              "      <th>OwnerUserId</th>\n",
              "      <th>CreationDate</th>\n",
              "      <th>ClosedDate</th>\n",
              "      <th>Score</th>\n",
              "      <th>Title</th>\n",
              "      <th>Body</th>\n",
              "    </tr>\n",
              "  </thead>\n",
              "  <tbody>\n",
              "    <tr>\n",
              "      <th>0</th>\n",
              "      <td>80</td>\n",
              "      <td>26.0</td>\n",
              "      <td>2008-08-01T13:57:07Z</td>\n",
              "      <td>NaN</td>\n",
              "      <td>26</td>\n",
              "      <td>SQLStatement.execute() - multiple queries in o...</td>\n",
              "      <td>&lt;p&gt;I've written a database generation script i...</td>\n",
              "    </tr>\n",
              "    <tr>\n",
              "      <th>1</th>\n",
              "      <td>90</td>\n",
              "      <td>58.0</td>\n",
              "      <td>2008-08-01T14:41:24Z</td>\n",
              "      <td>2012-12-26T03:45:49Z</td>\n",
              "      <td>144</td>\n",
              "      <td>Good branching and merging tutorials for Torto...</td>\n",
              "      <td>&lt;p&gt;Are there any really good tutorials explain...</td>\n",
              "    </tr>\n",
              "    <tr>\n",
              "      <th>2</th>\n",
              "      <td>120</td>\n",
              "      <td>83.0</td>\n",
              "      <td>2008-08-01T15:50:08Z</td>\n",
              "      <td>NaN</td>\n",
              "      <td>21</td>\n",
              "      <td>ASP.NET Site Maps</td>\n",
              "      <td>&lt;p&gt;Has anyone got experience creating &lt;strong&gt;...</td>\n",
              "    </tr>\n",
              "    <tr>\n",
              "      <th>3</th>\n",
              "      <td>180</td>\n",
              "      <td>2089740.0</td>\n",
              "      <td>2008-08-01T18:42:19Z</td>\n",
              "      <td>NaN</td>\n",
              "      <td>53</td>\n",
              "      <td>Function for creating color wheels</td>\n",
              "      <td>&lt;p&gt;This is something I've pseudo-solved many t...</td>\n",
              "    </tr>\n",
              "    <tr>\n",
              "      <th>4</th>\n",
              "      <td>260</td>\n",
              "      <td>91.0</td>\n",
              "      <td>2008-08-01T23:22:08Z</td>\n",
              "      <td>NaN</td>\n",
              "      <td>49</td>\n",
              "      <td>Adding scripting functionality to .NET applica...</td>\n",
              "      <td>&lt;p&gt;I have a little game written in C#. It uses...</td>\n",
              "    </tr>\n",
              "  </tbody>\n",
              "</table>\n",
              "</div>"
            ],
            "text/plain": [
              "    Id  ...                                               Body\n",
              "0   80  ...  <p>I've written a database generation script i...\n",
              "1   90  ...  <p>Are there any really good tutorials explain...\n",
              "2  120  ...  <p>Has anyone got experience creating <strong>...\n",
              "3  180  ...  <p>This is something I've pseudo-solved many t...\n",
              "4  260  ...  <p>I have a little game written in C#. It uses...\n",
              "\n",
              "[5 rows x 7 columns]"
            ]
          },
          "metadata": {},
          "execution_count": 6
        }
      ]
    },
    {
      "cell_type": "code",
      "metadata": {
        "colab": {
          "base_uri": "https://localhost:8080/",
          "height": 204
        },
        "id": "GoeoFMLLPJ8F",
        "outputId": "7f14ce7d-094c-4460-9957-a92d019da03d"
      },
      "source": [
        "\n",
        "pd_tags_df.head()\n"
      ],
      "execution_count": 7,
      "outputs": [
        {
          "output_type": "execute_result",
          "data": {
            "text/html": [
              "<div>\n",
              "<style scoped>\n",
              "    .dataframe tbody tr th:only-of-type {\n",
              "        vertical-align: middle;\n",
              "    }\n",
              "\n",
              "    .dataframe tbody tr th {\n",
              "        vertical-align: top;\n",
              "    }\n",
              "\n",
              "    .dataframe thead th {\n",
              "        text-align: right;\n",
              "    }\n",
              "</style>\n",
              "<table border=\"1\" class=\"dataframe\">\n",
              "  <thead>\n",
              "    <tr style=\"text-align: right;\">\n",
              "      <th></th>\n",
              "      <th>Id</th>\n",
              "      <th>Tag</th>\n",
              "    </tr>\n",
              "  </thead>\n",
              "  <tbody>\n",
              "    <tr>\n",
              "      <th>0</th>\n",
              "      <td>80</td>\n",
              "      <td>flex</td>\n",
              "    </tr>\n",
              "    <tr>\n",
              "      <th>1</th>\n",
              "      <td>80</td>\n",
              "      <td>actionscript-3</td>\n",
              "    </tr>\n",
              "    <tr>\n",
              "      <th>2</th>\n",
              "      <td>80</td>\n",
              "      <td>air</td>\n",
              "    </tr>\n",
              "    <tr>\n",
              "      <th>3</th>\n",
              "      <td>90</td>\n",
              "      <td>svn</td>\n",
              "    </tr>\n",
              "    <tr>\n",
              "      <th>4</th>\n",
              "      <td>90</td>\n",
              "      <td>tortoisesvn</td>\n",
              "    </tr>\n",
              "  </tbody>\n",
              "</table>\n",
              "</div>"
            ],
            "text/plain": [
              "   Id             Tag\n",
              "0  80            flex\n",
              "1  80  actionscript-3\n",
              "2  80             air\n",
              "3  90             svn\n",
              "4  90     tortoisesvn"
            ]
          },
          "metadata": {},
          "execution_count": 7
        }
      ]
    },
    {
      "cell_type": "code",
      "metadata": {
        "colab": {
          "base_uri": "https://localhost:8080/"
        },
        "id": "x4PoJ0z5PNh9",
        "outputId": "16eba6a4-d28b-4dcd-b6fa-c40d2cb0f725"
      },
      "source": [
        "\n",
        "pd_tags_df.dtypes"
      ],
      "execution_count": 8,
      "outputs": [
        {
          "output_type": "execute_result",
          "data": {
            "text/plain": [
              "Id      int64\n",
              "Tag    object\n",
              "dtype: object"
            ]
          },
          "metadata": {},
          "execution_count": 8
        }
      ]
    },
    {
      "cell_type": "code",
      "metadata": {
        "id": "VaaJPKXrPYup"
      },
      "source": [
        "sp_answers_df = spark.read.csv(\"/content/drive/MyDrive/Tech IS/Apache Spark/Answers.csv/Answers.csv\", \n",
        "                               sep=',', \n",
        "                               escape='\"', \n",
        "                               header=True, \n",
        "                               inferSchema=True, \n",
        "                               multiLine=True)\n",
        "sp_questions_df = spark.read.csv('/content/drive/MyDrive/Tech IS/Apache Spark/Questions.csv/Questions.csv', \n",
        "                               sep=',', \n",
        "                               escape='\"', \n",
        "                               header=True, \n",
        "                               inferSchema=True, \n",
        "                               multiLine=True)\n",
        "sp_tags_df = spark.read.csv('/content/drive/MyDrive/Tech IS/Apache Spark/Tags.csv/Tags.csv', \n",
        "                               sep=',', \n",
        "                               escape='\"', \n",
        "                               header=True, \n",
        "                               inferSchema=True, \n",
        "                               multiLine=True)"
      ],
      "execution_count": 10,
      "outputs": []
    },
    {
      "cell_type": "code",
      "metadata": {
        "id": "3Rj0GSrRP4gv",
        "colab": {
          "base_uri": "https://localhost:8080/"
        },
        "outputId": "68c8e8ff-f67d-4809-de97-06e4b73c28d0"
      },
      "source": [
        "sp_answers_df.show(5)"
      ],
      "execution_count": 11,
      "outputs": [
        {
          "output_type": "stream",
          "text": [
            "+---+-----------+-------------------+--------+-----+--------------------+\n",
            "| Id|OwnerUserId|       CreationDate|ParentId|Score|                Body|\n",
            "+---+-----------+-------------------+--------+-----+--------------------+\n",
            "| 92|         61|2008-08-01 14:45:37|      90|   13|<p><a href=\"http:...|\n",
            "|124|         26|2008-08-01 16:09:47|      80|   12|<p>I wound up usi...|\n",
            "|199|         50|2008-08-01 19:36:46|     180|    1|<p>I've read some...|\n",
            "|269|         91|2008-08-01 23:49:57|     260|    4|<p>Yes, I thought...|\n",
            "|307|         49|2008-08-02 01:49:46|     260|   28|<p><a href=\"http:...|\n",
            "+---+-----------+-------------------+--------+-----+--------------------+\n",
            "only showing top 5 rows\n",
            "\n"
          ],
          "name": "stdout"
        }
      ]
    },
    {
      "cell_type": "code",
      "metadata": {
        "colab": {
          "base_uri": "https://localhost:8080/"
        },
        "id": "XxHtVtTSoUfE",
        "outputId": "40b15f47-3743-46cb-e23d-0e886fed486a"
      },
      "source": [
        "sp_questions_df.show(3)"
      ],
      "execution_count": 12,
      "outputs": [
        {
          "output_type": "stream",
          "text": [
            "+---+-----------+-------------------+--------------------+-----+--------------------+--------------------+\n",
            "| Id|OwnerUserId|       CreationDate|          ClosedDate|Score|               Title|                Body|\n",
            "+---+-----------+-------------------+--------------------+-----+--------------------+--------------------+\n",
            "| 80|         26|2008-08-01 13:57:07|                  NA|   26|SQLStatement.exec...|<p>I've written a...|\n",
            "| 90|         58|2008-08-01 14:41:24|2012-12-26T03:45:49Z|  144|Good branching an...|<p>Are there any ...|\n",
            "|120|         83|2008-08-01 15:50:08|                  NA|   21|   ASP.NET Site Maps|<p>Has anyone got...|\n",
            "+---+-----------+-------------------+--------------------+-----+--------------------+--------------------+\n",
            "only showing top 3 rows\n",
            "\n"
          ],
          "name": "stdout"
        }
      ]
    },
    {
      "cell_type": "code",
      "metadata": {
        "colab": {
          "base_uri": "https://localhost:8080/"
        },
        "id": "K1wkc_HcoX3f",
        "outputId": "cda05809-e656-4c28-aed7-b6413061aaae"
      },
      "source": [
        "sp_tags_df.show(5)"
      ],
      "execution_count": 13,
      "outputs": [
        {
          "output_type": "stream",
          "text": [
            "+---+--------------+\n",
            "| Id|           Tag|\n",
            "+---+--------------+\n",
            "| 80|          flex|\n",
            "| 80|actionscript-3|\n",
            "| 80|           air|\n",
            "| 90|           svn|\n",
            "| 90|   tortoisesvn|\n",
            "+---+--------------+\n",
            "only showing top 5 rows\n",
            "\n"
          ],
          "name": "stdout"
        }
      ]
    },
    {
      "cell_type": "code",
      "metadata": {
        "colab": {
          "base_uri": "https://localhost:8080/"
        },
        "id": "amEIdizIocx6",
        "outputId": "20c417fb-1f0f-4b23-dec9-0d5e90f450c1"
      },
      "source": [
        "sp_tags_df.printSchema()"
      ],
      "execution_count": 14,
      "outputs": [
        {
          "output_type": "stream",
          "text": [
            "root\n",
            " |-- Id: integer (nullable = true)\n",
            " |-- Tag: string (nullable = true)\n",
            "\n"
          ],
          "name": "stdout"
        }
      ]
    },
    {
      "cell_type": "markdown",
      "metadata": {
        "id": "LK76pguwooG-"
      },
      "source": [
        "## Apply a function to a dataframe"
      ]
    },
    {
      "cell_type": "code",
      "metadata": {
        "id": "Rq1RPGkkokLI"
      },
      "source": [
        "pd_questions_df['match'] = pd_questions_df['Body'].apply(lambda x: 'python' in x)"
      ],
      "execution_count": 15,
      "outputs": []
    },
    {
      "cell_type": "code",
      "metadata": {
        "colab": {
          "base_uri": "https://localhost:8080/",
          "height": 204
        },
        "id": "Xso3YwZIpIuU",
        "outputId": "69c7c9b3-f9bf-4f45-8147-733e68d9fe16"
      },
      "source": [
        "pd_questions_df.head()"
      ],
      "execution_count": 16,
      "outputs": [
        {
          "output_type": "execute_result",
          "data": {
            "text/html": [
              "<div>\n",
              "<style scoped>\n",
              "    .dataframe tbody tr th:only-of-type {\n",
              "        vertical-align: middle;\n",
              "    }\n",
              "\n",
              "    .dataframe tbody tr th {\n",
              "        vertical-align: top;\n",
              "    }\n",
              "\n",
              "    .dataframe thead th {\n",
              "        text-align: right;\n",
              "    }\n",
              "</style>\n",
              "<table border=\"1\" class=\"dataframe\">\n",
              "  <thead>\n",
              "    <tr style=\"text-align: right;\">\n",
              "      <th></th>\n",
              "      <th>Id</th>\n",
              "      <th>OwnerUserId</th>\n",
              "      <th>CreationDate</th>\n",
              "      <th>ClosedDate</th>\n",
              "      <th>Score</th>\n",
              "      <th>Title</th>\n",
              "      <th>Body</th>\n",
              "      <th>match</th>\n",
              "    </tr>\n",
              "  </thead>\n",
              "  <tbody>\n",
              "    <tr>\n",
              "      <th>0</th>\n",
              "      <td>80</td>\n",
              "      <td>26.0</td>\n",
              "      <td>2008-08-01T13:57:07Z</td>\n",
              "      <td>NaN</td>\n",
              "      <td>26</td>\n",
              "      <td>SQLStatement.execute() - multiple queries in o...</td>\n",
              "      <td>&lt;p&gt;I've written a database generation script i...</td>\n",
              "      <td>False</td>\n",
              "    </tr>\n",
              "    <tr>\n",
              "      <th>1</th>\n",
              "      <td>90</td>\n",
              "      <td>58.0</td>\n",
              "      <td>2008-08-01T14:41:24Z</td>\n",
              "      <td>2012-12-26T03:45:49Z</td>\n",
              "      <td>144</td>\n",
              "      <td>Good branching and merging tutorials for Torto...</td>\n",
              "      <td>&lt;p&gt;Are there any really good tutorials explain...</td>\n",
              "      <td>False</td>\n",
              "    </tr>\n",
              "    <tr>\n",
              "      <th>2</th>\n",
              "      <td>120</td>\n",
              "      <td>83.0</td>\n",
              "      <td>2008-08-01T15:50:08Z</td>\n",
              "      <td>NaN</td>\n",
              "      <td>21</td>\n",
              "      <td>ASP.NET Site Maps</td>\n",
              "      <td>&lt;p&gt;Has anyone got experience creating &lt;strong&gt;...</td>\n",
              "      <td>False</td>\n",
              "    </tr>\n",
              "    <tr>\n",
              "      <th>3</th>\n",
              "      <td>180</td>\n",
              "      <td>2089740.0</td>\n",
              "      <td>2008-08-01T18:42:19Z</td>\n",
              "      <td>NaN</td>\n",
              "      <td>53</td>\n",
              "      <td>Function for creating color wheels</td>\n",
              "      <td>&lt;p&gt;This is something I've pseudo-solved many t...</td>\n",
              "      <td>False</td>\n",
              "    </tr>\n",
              "    <tr>\n",
              "      <th>4</th>\n",
              "      <td>260</td>\n",
              "      <td>91.0</td>\n",
              "      <td>2008-08-01T23:22:08Z</td>\n",
              "      <td>NaN</td>\n",
              "      <td>49</td>\n",
              "      <td>Adding scripting functionality to .NET applica...</td>\n",
              "      <td>&lt;p&gt;I have a little game written in C#. It uses...</td>\n",
              "      <td>False</td>\n",
              "    </tr>\n",
              "  </tbody>\n",
              "</table>\n",
              "</div>"
            ],
            "text/plain": [
              "    Id  OwnerUserId  ...                                               Body  match\n",
              "0   80         26.0  ...  <p>I've written a database generation script i...  False\n",
              "1   90         58.0  ...  <p>Are there any really good tutorials explain...  False\n",
              "2  120         83.0  ...  <p>Has anyone got experience creating <strong>...  False\n",
              "3  180    2089740.0  ...  <p>This is something I've pseudo-solved many t...  False\n",
              "4  260         91.0  ...  <p>I have a little game written in C#. It uses...  False\n",
              "\n",
              "[5 rows x 8 columns]"
            ]
          },
          "metadata": {},
          "execution_count": 16
        }
      ]
    },
    {
      "cell_type": "code",
      "metadata": {
        "id": "JdP3Hm0dpNSk"
      },
      "source": [
        "from pyspark.sql.types import BooleanType\n",
        "from pyspark.sql.functions import udf\n",
        " \n",
        "udf_find_python_token = udf(lambda x: 'python' in x, BooleanType())\n",
        "sp_questions_df = sp_questions_df.withColumn(\"match\", udf_find_python_token(\"body\"))"
      ],
      "execution_count": 17,
      "outputs": []
    },
    {
      "cell_type": "code",
      "metadata": {
        "colab": {
          "base_uri": "https://localhost:8080/"
        },
        "id": "c6mKIdjDplF-",
        "outputId": "f132490d-2b8f-47f0-e1d3-9444c6aadf9b"
      },
      "source": [
        "sp_questions_df.show(3)"
      ],
      "execution_count": 18,
      "outputs": [
        {
          "output_type": "stream",
          "text": [
            "+---+-----------+-------------------+--------------------+-----+--------------------+--------------------+-----+\n",
            "| Id|OwnerUserId|       CreationDate|          ClosedDate|Score|               Title|                Body|match|\n",
            "+---+-----------+-------------------+--------------------+-----+--------------------+--------------------+-----+\n",
            "| 80|         26|2008-08-01 13:57:07|                  NA|   26|SQLStatement.exec...|<p>I've written a...|false|\n",
            "| 90|         58|2008-08-01 14:41:24|2012-12-26T03:45:49Z|  144|Good branching an...|<p>Are there any ...|false|\n",
            "|120|         83|2008-08-01 15:50:08|                  NA|   21|   ASP.NET Site Maps|<p>Has anyone got...|false|\n",
            "+---+-----------+-------------------+--------------------+-----+--------------------+--------------------+-----+\n",
            "only showing top 3 rows\n",
            "\n"
          ],
          "name": "stdout"
        }
      ]
    },
    {
      "cell_type": "markdown",
      "metadata": {
        "id": "b92_5oa4p58T"
      },
      "source": [
        "## Joining Data"
      ]
    },
    {
      "cell_type": "code",
      "metadata": {
        "colab": {
          "base_uri": "https://localhost:8080/",
          "height": 204
        },
        "id": "XF3XW2YrppjB",
        "outputId": "eec892e7-df1b-4b51-b6bd-8a3a7a778e17"
      },
      "source": [
        "pd.merge(pd_questions_df, pd_tags_df, on='Id').head()"
      ],
      "execution_count": 19,
      "outputs": [
        {
          "output_type": "execute_result",
          "data": {
            "text/html": [
              "<div>\n",
              "<style scoped>\n",
              "    .dataframe tbody tr th:only-of-type {\n",
              "        vertical-align: middle;\n",
              "    }\n",
              "\n",
              "    .dataframe tbody tr th {\n",
              "        vertical-align: top;\n",
              "    }\n",
              "\n",
              "    .dataframe thead th {\n",
              "        text-align: right;\n",
              "    }\n",
              "</style>\n",
              "<table border=\"1\" class=\"dataframe\">\n",
              "  <thead>\n",
              "    <tr style=\"text-align: right;\">\n",
              "      <th></th>\n",
              "      <th>Id</th>\n",
              "      <th>OwnerUserId</th>\n",
              "      <th>CreationDate</th>\n",
              "      <th>ClosedDate</th>\n",
              "      <th>Score</th>\n",
              "      <th>Title</th>\n",
              "      <th>Body</th>\n",
              "      <th>match</th>\n",
              "      <th>Tag</th>\n",
              "    </tr>\n",
              "  </thead>\n",
              "  <tbody>\n",
              "    <tr>\n",
              "      <th>0</th>\n",
              "      <td>80</td>\n",
              "      <td>26.0</td>\n",
              "      <td>2008-08-01T13:57:07Z</td>\n",
              "      <td>NaN</td>\n",
              "      <td>26</td>\n",
              "      <td>SQLStatement.execute() - multiple queries in o...</td>\n",
              "      <td>&lt;p&gt;I've written a database generation script i...</td>\n",
              "      <td>False</td>\n",
              "      <td>flex</td>\n",
              "    </tr>\n",
              "    <tr>\n",
              "      <th>1</th>\n",
              "      <td>80</td>\n",
              "      <td>26.0</td>\n",
              "      <td>2008-08-01T13:57:07Z</td>\n",
              "      <td>NaN</td>\n",
              "      <td>26</td>\n",
              "      <td>SQLStatement.execute() - multiple queries in o...</td>\n",
              "      <td>&lt;p&gt;I've written a database generation script i...</td>\n",
              "      <td>False</td>\n",
              "      <td>actionscript-3</td>\n",
              "    </tr>\n",
              "    <tr>\n",
              "      <th>2</th>\n",
              "      <td>80</td>\n",
              "      <td>26.0</td>\n",
              "      <td>2008-08-01T13:57:07Z</td>\n",
              "      <td>NaN</td>\n",
              "      <td>26</td>\n",
              "      <td>SQLStatement.execute() - multiple queries in o...</td>\n",
              "      <td>&lt;p&gt;I've written a database generation script i...</td>\n",
              "      <td>False</td>\n",
              "      <td>air</td>\n",
              "    </tr>\n",
              "    <tr>\n",
              "      <th>3</th>\n",
              "      <td>90</td>\n",
              "      <td>58.0</td>\n",
              "      <td>2008-08-01T14:41:24Z</td>\n",
              "      <td>2012-12-26T03:45:49Z</td>\n",
              "      <td>144</td>\n",
              "      <td>Good branching and merging tutorials for Torto...</td>\n",
              "      <td>&lt;p&gt;Are there any really good tutorials explain...</td>\n",
              "      <td>False</td>\n",
              "      <td>svn</td>\n",
              "    </tr>\n",
              "    <tr>\n",
              "      <th>4</th>\n",
              "      <td>90</td>\n",
              "      <td>58.0</td>\n",
              "      <td>2008-08-01T14:41:24Z</td>\n",
              "      <td>2012-12-26T03:45:49Z</td>\n",
              "      <td>144</td>\n",
              "      <td>Good branching and merging tutorials for Torto...</td>\n",
              "      <td>&lt;p&gt;Are there any really good tutorials explain...</td>\n",
              "      <td>False</td>\n",
              "      <td>tortoisesvn</td>\n",
              "    </tr>\n",
              "  </tbody>\n",
              "</table>\n",
              "</div>"
            ],
            "text/plain": [
              "   Id  OwnerUserId  ...  match             Tag\n",
              "0  80         26.0  ...  False            flex\n",
              "1  80         26.0  ...  False  actionscript-3\n",
              "2  80         26.0  ...  False             air\n",
              "3  90         58.0  ...  False             svn\n",
              "4  90         58.0  ...  False     tortoisesvn\n",
              "\n",
              "[5 rows x 9 columns]"
            ]
          },
          "metadata": {},
          "execution_count": 19
        }
      ]
    },
    {
      "cell_type": "code",
      "metadata": {
        "colab": {
          "base_uri": "https://localhost:8080/"
        },
        "id": "HFRHoBM5p_tb",
        "outputId": "36cb0c0f-b09e-4e06-e1de-ecc98bbd0d16"
      },
      "source": [
        "sp_questions_df.join(sp_tags_df, ['id']).show(3)"
      ],
      "execution_count": 20,
      "outputs": [
        {
          "output_type": "stream",
          "text": [
            "+----+-----------+-------------------+----------+-----+--------------------+--------------------+-----+----+\n",
            "|  Id|OwnerUserId|       CreationDate|ClosedDate|Score|               Title|                Body|match| Tag|\n",
            "+----+-----------+-------------------+----------+-----+--------------------+--------------------+-----+----+\n",
            "|7880|        432|2008-08-11 15:50:51|        NA|   15|How do you open a...|<p>I want to open...|false| c++|\n",
            "|7880|        432|2008-08-11 15:50:51|        NA|   15|How do you open a...|<p>I want to open...|false|file|\n",
            "|7880|        432|2008-08-11 15:50:51|        NA|   15|How do you open a...|<p>I want to open...|false|  io|\n",
            "+----+-----------+-------------------+----------+-----+--------------------+--------------------+-----+----+\n",
            "only showing top 3 rows\n",
            "\n"
          ],
          "name": "stdout"
        }
      ]
    },
    {
      "cell_type": "code",
      "metadata": {
        "colab": {
          "base_uri": "https://localhost:8080/"
        },
        "id": "tEKoPkqgqFzZ",
        "outputId": "07926800-e75e-4a9d-93bd-10cd57890c08"
      },
      "source": [
        "sp_questions_df.join(sp_tags_df, ['id']).join(sp_answers_df, ['id'], how='outer').head(3)"
      ],
      "execution_count": 21,
      "outputs": [
        {
          "output_type": "execute_result",
          "data": {
            "text/plain": [
              "[Row(Id=7880, OwnerUserId='432', CreationDate=datetime.datetime(2008, 8, 11, 15, 50, 51), ClosedDate='NA', Score=15, Title='How do you open a file in C++?', Body='<p>I want to open a file for reading, the C++ way. I need to be able to do it for:</p>\\n\\n<ul>\\n<li><p>text files, which would involve some sort of read line function.</p></li>\\n<li><p>binary files, which would provide a way to read raw data into a <code>char*</code> buffer.</p></li>\\n</ul>\\n', match=False, Tag='c++', OwnerUserId=None, CreationDate=None, ParentId=None, Score=None, Body=None),\n",
              " Row(Id=7880, OwnerUserId='432', CreationDate=datetime.datetime(2008, 8, 11, 15, 50, 51), ClosedDate='NA', Score=15, Title='How do you open a file in C++?', Body='<p>I want to open a file for reading, the C++ way. I need to be able to do it for:</p>\\n\\n<ul>\\n<li><p>text files, which would involve some sort of read line function.</p></li>\\n<li><p>binary files, which would provide a way to read raw data into a <code>char*</code> buffer.</p></li>\\n</ul>\\n', match=False, Tag='file', OwnerUserId=None, CreationDate=None, ParentId=None, Score=None, Body=None),\n",
              " Row(Id=7880, OwnerUserId='432', CreationDate=datetime.datetime(2008, 8, 11, 15, 50, 51), ClosedDate='NA', Score=15, Title='How do you open a file in C++?', Body='<p>I want to open a file for reading, the C++ way. I need to be able to do it for:</p>\\n\\n<ul>\\n<li><p>text files, which would involve some sort of read line function.</p></li>\\n<li><p>binary files, which would provide a way to read raw data into a <code>char*</code> buffer.</p></li>\\n</ul>\\n', match=False, Tag='io', OwnerUserId=None, CreationDate=None, ParentId=None, Score=None, Body=None)]"
            ]
          },
          "metadata": {},
          "execution_count": 21
        }
      ]
    },
    {
      "cell_type": "markdown",
      "metadata": {
        "id": "-wszaYhFrQph"
      },
      "source": [
        "## Finding Nulls"
      ]
    },
    {
      "cell_type": "code",
      "metadata": {
        "colab": {
          "base_uri": "https://localhost:8080/"
        },
        "id": "BheaB0AorNe2",
        "outputId": "ceb02d62-ed12-4b1c-dc11-3eef8b0d24f3"
      },
      "source": [
        "pd.isnull(pd_questions_df['ClosedDate'])[0:10]"
      ],
      "execution_count": 22,
      "outputs": [
        {
          "output_type": "execute_result",
          "data": {
            "text/plain": [
              "0     True\n",
              "1    False\n",
              "2     True\n",
              "3     True\n",
              "4     True\n",
              "5     True\n",
              "6    False\n",
              "7     True\n",
              "8     True\n",
              "9     True\n",
              "Name: ClosedDate, dtype: bool"
            ]
          },
          "metadata": {},
          "execution_count": 22
        }
      ]
    },
    {
      "cell_type": "code",
      "metadata": {
        "colab": {
          "base_uri": "https://localhost:8080/"
        },
        "id": "TUgKghx6rVUb",
        "outputId": "b1179b65-8747-42b5-b3e2-2a53792c2490"
      },
      "source": [
        "sp_questions_df.printSchema()"
      ],
      "execution_count": 23,
      "outputs": [
        {
          "output_type": "stream",
          "text": [
            "root\n",
            " |-- Id: integer (nullable = true)\n",
            " |-- OwnerUserId: string (nullable = true)\n",
            " |-- CreationDate: timestamp (nullable = true)\n",
            " |-- ClosedDate: string (nullable = true)\n",
            " |-- Score: integer (nullable = true)\n",
            " |-- Title: string (nullable = true)\n",
            " |-- Body: string (nullable = true)\n",
            " |-- match: boolean (nullable = true)\n",
            "\n"
          ],
          "name": "stdout"
        }
      ]
    },
    {
      "cell_type": "code",
      "metadata": {
        "colab": {
          "base_uri": "https://localhost:8080/"
        },
        "id": "-7w1-WVyrZQr",
        "outputId": "06c0a385-43fe-48a2-efb3-744df3fde302"
      },
      "source": [
        "sp_questions_df.withColumn('Closed', sp_questions_df.ClosedDate.isNull()).show(10)"
      ],
      "execution_count": 24,
      "outputs": [
        {
          "output_type": "stream",
          "text": [
            "+---+-----------+-------------------+--------------------+-----+--------------------+--------------------+-----+------+\n",
            "| Id|OwnerUserId|       CreationDate|          ClosedDate|Score|               Title|                Body|match|Closed|\n",
            "+---+-----------+-------------------+--------------------+-----+--------------------+--------------------+-----+------+\n",
            "| 80|         26|2008-08-01 13:57:07|                  NA|   26|SQLStatement.exec...|<p>I've written a...|false| false|\n",
            "| 90|         58|2008-08-01 14:41:24|2012-12-26T03:45:49Z|  144|Good branching an...|<p>Are there any ...|false| false|\n",
            "|120|         83|2008-08-01 15:50:08|                  NA|   21|   ASP.NET Site Maps|<p>Has anyone got...|false| false|\n",
            "|180|    2089740|2008-08-01 18:42:19|                  NA|   53|Function for crea...|<p>This is someth...|false| false|\n",
            "|260|         91|2008-08-01 23:22:08|                  NA|   49|Adding scripting ...|<p>I have a littl...|false| false|\n",
            "|330|         63|2008-08-02 02:51:36|                  NA|   29|Should I use nest...|<p>I am working o...|false| false|\n",
            "|470|         71|2008-08-02 15:11:47|2016-03-26T05:23:29Z|   13|Homegrown consump...|<p>I've been writ...|false| false|\n",
            "|580|         91|2008-08-02 23:30:59|                  NA|   21|Deploying SQL Ser...|<p>I wonder how y...|false| false|\n",
            "|650|        143|2008-08-03 11:12:52|                  NA|   79|Automatically upd...|<p>I would like t...|false| false|\n",
            "|810|        233|2008-08-03 20:35:01|                  NA|    9|Visual Studio Set...|<p>I'm trying to ...|false| false|\n",
            "+---+-----------+-------------------+--------------------+-----+--------------------+--------------------+-----+------+\n",
            "only showing top 10 rows\n",
            "\n"
          ],
          "name": "stdout"
        }
      ]
    },
    {
      "cell_type": "markdown",
      "metadata": {
        "id": "LRV7Jwe3rfZN"
      },
      "source": [
        "## Group by"
      ]
    },
    {
      "cell_type": "code",
      "metadata": {
        "colab": {
          "base_uri": "https://localhost:8080/",
          "height": 236
        },
        "id": "1BiaP0LwrhYx",
        "outputId": "8413d714-3862-462d-a074-e9c53ef8b079"
      },
      "source": [
        "pd_tags_df.groupby('Tag').sum()[0:5]"
      ],
      "execution_count": 25,
      "outputs": [
        {
          "output_type": "execute_result",
          "data": {
            "text/html": [
              "<div>\n",
              "<style scoped>\n",
              "    .dataframe tbody tr th:only-of-type {\n",
              "        vertical-align: middle;\n",
              "    }\n",
              "\n",
              "    .dataframe tbody tr th {\n",
              "        vertical-align: top;\n",
              "    }\n",
              "\n",
              "    .dataframe thead th {\n",
              "        text-align: right;\n",
              "    }\n",
              "</style>\n",
              "<table border=\"1\" class=\"dataframe\">\n",
              "  <thead>\n",
              "    <tr style=\"text-align: right;\">\n",
              "      <th></th>\n",
              "      <th>Id</th>\n",
              "    </tr>\n",
              "    <tr>\n",
              "      <th>Tag</th>\n",
              "      <th></th>\n",
              "    </tr>\n",
              "  </thead>\n",
              "  <tbody>\n",
              "    <tr>\n",
              "      <th>.a</th>\n",
              "      <td>253502670</td>\n",
              "    </tr>\n",
              "    <tr>\n",
              "      <th>.app</th>\n",
              "      <td>290775160</td>\n",
              "    </tr>\n",
              "    <tr>\n",
              "      <th>.aspxauth</th>\n",
              "      <td>93769460</td>\n",
              "    </tr>\n",
              "    <tr>\n",
              "      <th>.bash-profile</th>\n",
              "      <td>1199125500</td>\n",
              "    </tr>\n",
              "    <tr>\n",
              "      <th>.class-file</th>\n",
              "      <td>423826210</td>\n",
              "    </tr>\n",
              "  </tbody>\n",
              "</table>\n",
              "</div>"
            ],
            "text/plain": [
              "                       Id\n",
              "Tag                      \n",
              ".a              253502670\n",
              ".app            290775160\n",
              ".aspxauth        93769460\n",
              ".bash-profile  1199125500\n",
              ".class-file     423826210"
            ]
          },
          "metadata": {},
          "execution_count": 25
        }
      ]
    },
    {
      "cell_type": "code",
      "metadata": {
        "colab": {
          "base_uri": "https://localhost:8080/"
        },
        "id": "lk0Fg17i_kq4",
        "outputId": "970479e1-2075-4346-fd14-dba960e42b9a"
      },
      "source": [
        "sp_tags_df.groupby('Tag').sum().show(5)"
      ],
      "execution_count": 26,
      "outputs": [
        {
          "output_type": "stream",
          "text": [
            "+--------------------+-----------+\n",
            "|                 Tag|    sum(Id)|\n",
            "+--------------------+-----------+\n",
            "|knowledge-management|  147563640|\n",
            "|              iframe|47843084300|\n",
            "|        fuzzy-search| 1164098580|\n",
            "|    fluent-interface|  633226040|\n",
            "|           standards| 3199444790|\n",
            "+--------------------+-----------+\n",
            "only showing top 5 rows\n",
            "\n"
          ],
          "name": "stdout"
        }
      ]
    },
    {
      "cell_type": "markdown",
      "metadata": {
        "id": "KGPRaG3S_yWy"
      },
      "source": [
        "## Spark SQL"
      ]
    },
    {
      "cell_type": "markdown",
      "metadata": {
        "id": "2AMELAMT_2T6"
      },
      "source": [
        "### Creating tables"
      ]
    },
    {
      "cell_type": "code",
      "metadata": {
        "id": "8PTvyyLo_pC-"
      },
      "source": [
        "sp_tags_df.registerTempTable(\"tags\")\n",
        "sp_questions_df.registerTempTable(\"questions\")"
      ],
      "execution_count": 27,
      "outputs": []
    },
    {
      "cell_type": "markdown",
      "metadata": {
        "id": "gSjdPlR9AEHI"
      },
      "source": [
        "### Using SQL Statements"
      ]
    },
    {
      "cell_type": "code",
      "metadata": {
        "colab": {
          "base_uri": "https://localhost:8080/"
        },
        "id": "HsbyhC5GAAUE",
        "outputId": "da00d3a0-3cef-440c-b5aa-ecdc2c8cf63c"
      },
      "source": [
        "sql_df = spark.sql(\"SELECT CreationDate from questions\")\n",
        "sql_df.show(3)"
      ],
      "execution_count": 31,
      "outputs": [
        {
          "output_type": "stream",
          "text": [
            "+-------------------+\n",
            "|       CreationDate|\n",
            "+-------------------+\n",
            "|2008-08-01 13:57:07|\n",
            "|2008-08-01 14:41:24|\n",
            "|2008-08-01 15:50:08|\n",
            "+-------------------+\n",
            "only showing top 3 rows\n",
            "\n"
          ],
          "name": "stdout"
        }
      ]
    },
    {
      "cell_type": "code",
      "metadata": {
        "colab": {
          "base_uri": "https://localhost:8080/"
        },
        "id": "fQ08BvSmALER",
        "outputId": "7da2154d-1b19-4f1c-e1fc-9d68de59cf24"
      },
      "source": [
        "joined_df = spark.sql(\"SELECT t.Tag, q.Title, q.Body FROM questions q INNER JOIN tags t on q.id = t.id\")\n",
        "joined_df.show(3)"
      ],
      "execution_count": 33,
      "outputs": [
        {
          "output_type": "stream",
          "text": [
            "+----+--------------------+--------------------+\n",
            "| Tag|               Title|                Body|\n",
            "+----+--------------------+--------------------+\n",
            "| c++|How do you open a...|<p>I want to open...|\n",
            "|file|How do you open a...|<p>I want to open...|\n",
            "|  io|How do you open a...|<p>I want to open...|\n",
            "+----+--------------------+--------------------+\n",
            "only showing top 3 rows\n",
            "\n"
          ],
          "name": "stdout"
        }
      ]
    },
    {
      "cell_type": "code",
      "metadata": {
        "colab": {
          "base_uri": "https://localhost:8080/"
        },
        "id": "5yi_Jy76B2hg",
        "outputId": "4fefbe55-c60e-4be2-8742-c0048cdbb990"
      },
      "source": [
        "so_survey_df = spark.read.csv('/content/drive/MyDrive/Tech IS/Apache Spark/survey_results_public.csv', \n",
        "                               sep=',', \n",
        "                               escape='\"', \n",
        "                               header=True, \n",
        "                               inferSchema=True, \n",
        "                               multiLine=True)\n",
        "\n",
        "so_survey_df.printSchema()"
      ],
      "execution_count": 35,
      "outputs": [
        {
          "output_type": "stream",
          "text": [
            "root\n",
            " |-- Respondent: integer (nullable = true)\n",
            " |-- Professional: string (nullable = true)\n",
            " |-- ProgramHobby: string (nullable = true)\n",
            " |-- Country: string (nullable = true)\n",
            " |-- University: string (nullable = true)\n",
            " |-- EmploymentStatus: string (nullable = true)\n",
            " |-- FormalEducation: string (nullable = true)\n",
            " |-- MajorUndergrad: string (nullable = true)\n",
            " |-- HomeRemote: string (nullable = true)\n",
            " |-- CompanySize: string (nullable = true)\n",
            " |-- CompanyType: string (nullable = true)\n",
            " |-- YearsProgram: string (nullable = true)\n",
            " |-- YearsCodedJob: string (nullable = true)\n",
            " |-- YearsCodedJobPast: string (nullable = true)\n",
            " |-- DeveloperType: string (nullable = true)\n",
            " |-- WebDeveloperType: string (nullable = true)\n",
            " |-- MobileDeveloperType: string (nullable = true)\n",
            " |-- NonDeveloperType: string (nullable = true)\n",
            " |-- CareerSatisfaction: string (nullable = true)\n",
            " |-- JobSatisfaction: string (nullable = true)\n",
            " |-- ExCoderReturn: string (nullable = true)\n",
            " |-- ExCoderNotForMe: string (nullable = true)\n",
            " |-- ExCoderBalance: string (nullable = true)\n",
            " |-- ExCoder10Years: string (nullable = true)\n",
            " |-- ExCoderBelonged: string (nullable = true)\n",
            " |-- ExCoderSkills: string (nullable = true)\n",
            " |-- ExCoderWillNotCode: string (nullable = true)\n",
            " |-- ExCoderActive: string (nullable = true)\n",
            " |-- PronounceGIF: string (nullable = true)\n",
            " |-- ProblemSolving: string (nullable = true)\n",
            " |-- BuildingThings: string (nullable = true)\n",
            " |-- LearningNewTech: string (nullable = true)\n",
            " |-- BoringDetails: string (nullable = true)\n",
            " |-- JobSecurity: string (nullable = true)\n",
            " |-- DiversityImportant: string (nullable = true)\n",
            " |-- AnnoyingUI: string (nullable = true)\n",
            " |-- FriendsDevelopers: string (nullable = true)\n",
            " |-- RightWrongWay: string (nullable = true)\n",
            " |-- UnderstandComputers: string (nullable = true)\n",
            " |-- SeriousWork: string (nullable = true)\n",
            " |-- InvestTimeTools: string (nullable = true)\n",
            " |-- WorkPayCare: string (nullable = true)\n",
            " |-- KinshipDevelopers: string (nullable = true)\n",
            " |-- ChallengeMyself: string (nullable = true)\n",
            " |-- CompetePeers: string (nullable = true)\n",
            " |-- ChangeWorld: string (nullable = true)\n",
            " |-- JobSeekingStatus: string (nullable = true)\n",
            " |-- HoursPerWeek: string (nullable = true)\n",
            " |-- LastNewJob: string (nullable = true)\n",
            " |-- AssessJobIndustry: string (nullable = true)\n",
            " |-- AssessJobRole: string (nullable = true)\n",
            " |-- AssessJobExp: string (nullable = true)\n",
            " |-- AssessJobDept: string (nullable = true)\n",
            " |-- AssessJobTech: string (nullable = true)\n",
            " |-- AssessJobProjects: string (nullable = true)\n",
            " |-- AssessJobCompensation: string (nullable = true)\n",
            " |-- AssessJobOffice: string (nullable = true)\n",
            " |-- AssessJobCommute: string (nullable = true)\n",
            " |-- AssessJobRemote: string (nullable = true)\n",
            " |-- AssessJobLeaders: string (nullable = true)\n",
            " |-- AssessJobProfDevel: string (nullable = true)\n",
            " |-- AssessJobDiversity: string (nullable = true)\n",
            " |-- AssessJobProduct: string (nullable = true)\n",
            " |-- AssessJobFinances: string (nullable = true)\n",
            " |-- ImportantBenefits: string (nullable = true)\n",
            " |-- ClickyKeys: string (nullable = true)\n",
            " |-- JobProfile: string (nullable = true)\n",
            " |-- ResumePrompted: string (nullable = true)\n",
            " |-- LearnedHiring: string (nullable = true)\n",
            " |-- ImportantHiringAlgorithms: string (nullable = true)\n",
            " |-- ImportantHiringTechExp: string (nullable = true)\n",
            " |-- ImportantHiringCommunication: string (nullable = true)\n",
            " |-- ImportantHiringOpenSource: string (nullable = true)\n",
            " |-- ImportantHiringPMExp: string (nullable = true)\n",
            " |-- ImportantHiringCompanies: string (nullable = true)\n",
            " |-- ImportantHiringTitles: string (nullable = true)\n",
            " |-- ImportantHiringEducation: string (nullable = true)\n",
            " |-- ImportantHiringRep: string (nullable = true)\n",
            " |-- ImportantHiringGettingThingsDone: string (nullable = true)\n",
            " |-- Currency: string (nullable = true)\n",
            " |-- Overpaid: string (nullable = true)\n",
            " |-- TabsSpaces: string (nullable = true)\n",
            " |-- EducationImportant: string (nullable = true)\n",
            " |-- EducationTypes: string (nullable = true)\n",
            " |-- SelfTaughtTypes: string (nullable = true)\n",
            " |-- TimeAfterBootcamp: string (nullable = true)\n",
            " |-- CousinEducation: string (nullable = true)\n",
            " |-- WorkStart: string (nullable = true)\n",
            " |-- HaveWorkedLanguage: string (nullable = true)\n",
            " |-- WantWorkLanguage: string (nullable = true)\n",
            " |-- HaveWorkedFramework: string (nullable = true)\n",
            " |-- WantWorkFramework: string (nullable = true)\n",
            " |-- HaveWorkedDatabase: string (nullable = true)\n",
            " |-- WantWorkDatabase: string (nullable = true)\n",
            " |-- HaveWorkedPlatform: string (nullable = true)\n",
            " |-- WantWorkPlatform: string (nullable = true)\n",
            " |-- IDE: string (nullable = true)\n",
            " |-- AuditoryEnvironment: string (nullable = true)\n",
            " |-- Methodology: string (nullable = true)\n",
            " |-- VersionControl: string (nullable = true)\n",
            " |-- CheckInCode: string (nullable = true)\n",
            " |-- ShipIt: string (nullable = true)\n",
            " |-- OtherPeoplesCode: string (nullable = true)\n",
            " |-- ProjectManagement: string (nullable = true)\n",
            " |-- EnjoyDebugging: string (nullable = true)\n",
            " |-- InTheZone: string (nullable = true)\n",
            " |-- DifficultCommunication: string (nullable = true)\n",
            " |-- CollaborateRemote: string (nullable = true)\n",
            " |-- MetricAssess: string (nullable = true)\n",
            " |-- EquipmentSatisfiedMonitors: string (nullable = true)\n",
            " |-- EquipmentSatisfiedCPU: string (nullable = true)\n",
            " |-- EquipmentSatisfiedRAM: string (nullable = true)\n",
            " |-- EquipmentSatisfiedStorage: string (nullable = true)\n",
            " |-- EquipmentSatisfiedRW: string (nullable = true)\n",
            " |-- InfluenceInternet: string (nullable = true)\n",
            " |-- InfluenceWorkstation: string (nullable = true)\n",
            " |-- InfluenceHardware: string (nullable = true)\n",
            " |-- InfluenceServers: string (nullable = true)\n",
            " |-- InfluenceTechStack: string (nullable = true)\n",
            " |-- InfluenceDeptTech: string (nullable = true)\n",
            " |-- InfluenceVizTools: string (nullable = true)\n",
            " |-- InfluenceDatabase: string (nullable = true)\n",
            " |-- InfluenceCloud: string (nullable = true)\n",
            " |-- InfluenceConsultants: string (nullable = true)\n",
            " |-- InfluenceRecruitment: string (nullable = true)\n",
            " |-- InfluenceCommunication: string (nullable = true)\n",
            " |-- StackOverflowDescribes: string (nullable = true)\n",
            " |-- StackOverflowSatisfaction: string (nullable = true)\n",
            " |-- StackOverflowDevices: string (nullable = true)\n",
            " |-- StackOverflowFoundAnswer: string (nullable = true)\n",
            " |-- StackOverflowCopiedCode: string (nullable = true)\n",
            " |-- StackOverflowJobListing: string (nullable = true)\n",
            " |-- StackOverflowCompanyPage: string (nullable = true)\n",
            " |-- StackOverflowJobSearch: string (nullable = true)\n",
            " |-- StackOverflowNewQuestion: string (nullable = true)\n",
            " |-- StackOverflowAnswer: string (nullable = true)\n",
            " |-- StackOverflowMetaChat: string (nullable = true)\n",
            " |-- StackOverflowAdsRelevant: string (nullable = true)\n",
            " |-- StackOverflowAdsDistracting: string (nullable = true)\n",
            " |-- StackOverflowModeration: string (nullable = true)\n",
            " |-- StackOverflowCommunity: string (nullable = true)\n",
            " |-- StackOverflowHelpful: string (nullable = true)\n",
            " |-- StackOverflowBetter: string (nullable = true)\n",
            " |-- StackOverflowWhatDo: string (nullable = true)\n",
            " |-- StackOverflowMakeMoney: string (nullable = true)\n",
            " |-- Gender: string (nullable = true)\n",
            " |-- HighestEducationParents: string (nullable = true)\n",
            " |-- Race: string (nullable = true)\n",
            " |-- SurveyLong: string (nullable = true)\n",
            " |-- QuestionsInteresting: string (nullable = true)\n",
            " |-- QuestionsConfusing: string (nullable = true)\n",
            " |-- InterestedAnswers: string (nullable = true)\n",
            " |-- Salary: string (nullable = true)\n",
            " |-- ExpectedSalary: string (nullable = true)\n",
            "\n"
          ],
          "name": "stdout"
        }
      ]
    },
    {
      "cell_type": "code",
      "metadata": {
        "colab": {
          "base_uri": "https://localhost:8080/"
        },
        "id": "NkG8Uk-lCOMf",
        "outputId": "ed49c6ed-bd85-4b4f-ecd9-8d70811edf86"
      },
      "source": [
        "so_survey_df.select('IDE').distinct().show(5)"
      ],
      "execution_count": 36,
      "outputs": [
        {
          "output_type": "stream",
          "text": [
            "+--------------------+\n",
            "|                 IDE|\n",
            "+--------------------+\n",
            "| Atom; Vim; IntelliJ|\n",
            "|Android Studio; V...|\n",
            "|Vim; Android Stud...|\n",
            "|Emacs; Notepad++;...|\n",
            "|Notepad++; TextMa...|\n",
            "+--------------------+\n",
            "only showing top 5 rows\n",
            "\n"
          ],
          "name": "stdout"
        }
      ]
    },
    {
      "cell_type": "code",
      "metadata": {
        "colab": {
          "base_uri": "https://localhost:8080/"
        },
        "id": "p4g7HCllC1KS",
        "outputId": "65b9f6d1-6a04-4979-bb16-4ae61c96048b"
      },
      "source": [
        "from pyspark.sql import functions as F\n",
        "from pyspark.sql.functions import col\n",
        "\n",
        "so_survey_df.select('IDE', F.when(col('IDE').contains('Emacs'), 'Yay') \\\n",
        "                            .when(col('IDE').contains('Spacemacs'), 'Yay') \\\n",
        "                            .otherwise('Boo') \\\n",
        "                            .alias('analysis')).show(10)"
      ],
      "execution_count": 37,
      "outputs": [
        {
          "output_type": "stream",
          "text": [
            "+--------------------+--------+\n",
            "|                 IDE|analysis|\n",
            "+--------------------+--------+\n",
            "|         Atom; Xcode|     Boo|\n",
            "|Atom; Notepad++; ...|     Boo|\n",
            "|Sublime Text; Vim...|     Boo|\n",
            "|Notepad++; Sublim...|     Boo|\n",
            "|                  NA|     Boo|\n",
            "|          Emacs; Vim|     Yay|\n",
            "|Sublime Text; IPy...|     Boo|\n",
            "|                 Vim|     Boo|\n",
            "|Vim; Visual Studi...|     Boo|\n",
            "|Coda; Sublime Tex...|     Boo|\n",
            "+--------------------+--------+\n",
            "only showing top 10 rows\n",
            "\n"
          ],
          "name": "stdout"
        }
      ]
    },
    {
      "cell_type": "markdown",
      "metadata": {
        "id": "XKhGcCpdC7hX"
      },
      "source": [
        "### Using UDF's"
      ]
    },
    {
      "cell_type": "code",
      "metadata": {
        "colab": {
          "base_uri": "https://localhost:8080/"
        },
        "id": "N93LRiMJC3VW",
        "outputId": "f7893f16-ead2-4ed1-929e-a25669b3af36"
      },
      "source": [
        "spark.udf.register(\"string_length\", lambda x: len(x))\n",
        "spark.sql(\"SELECT string_length(body) as body_length from questions\").show(3)"
      ],
      "execution_count": 38,
      "outputs": [
        {
          "output_type": "stream",
          "text": [
            "+-----------+\n",
            "|body_length|\n",
            "+-----------+\n",
            "|       1941|\n",
            "|        249|\n",
            "|        431|\n",
            "+-----------+\n",
            "only showing top 3 rows\n",
            "\n"
          ],
          "name": "stdout"
        }
      ]
    },
    {
      "cell_type": "code",
      "metadata": {
        "id": "iQqeF9IlC6gr"
      },
      "source": [
        ""
      ],
      "execution_count": null,
      "outputs": []
    }
  ]
}